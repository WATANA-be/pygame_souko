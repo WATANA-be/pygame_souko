{
  "nbformat": 4,
  "nbformat_minor": 0,
  "metadata": {
    "colab": {
      "name": "Untitled0.ipynb のコピー",
      "provenance": [],
      "authorship_tag": "ABX9TyN0sBZRzQxdnkEksRDgSCIY",
      "include_colab_link": true
    },
    "kernelspec": {
      "name": "python3",
      "display_name": "Python 3"
    },
    "language_info": {
      "name": "python"
    }
  },
  "cells": [
    {
      "cell_type": "markdown",
      "metadata": {
        "id": "view-in-github",
        "colab_type": "text"
      },
      "source": [
        "<a href=\"https://colab.research.google.com/github/WATANA-be/python_jiyu_souko/blob/master/Untitled0_ipynb_%E3%81%AE%E3%82%B3%E3%83%94%E3%83%BC.ipynb\" target=\"_parent\"><img src=\"https://colab.research.google.com/assets/colab-badge.svg\" alt=\"Open In Colab\"/></a>"
      ]
    },
    {
      "cell_type": "code",
      "metadata": {
        "colab": {
          "base_uri": "https://localhost:8080/"
        },
        "id": "khtqFY2Zbzok",
        "outputId": "921d783b-b0d0-44fb-f294-e6a1b6d93f43"
      },
      "source": [
        "seiseki =[\n",
        "  [87, 56, 89, 92,68],[100, 65, 91, 88, 72],[92, 74, 88, 90, 70],[97, 69, 85, 95, 73],]\n",
        "\n",
        "for i in seiseki:\n",
        "    sum = 0#リストが変わるごとに0に戻る\n",
        "    for j in i:#iは成績の中の一つのリスト\n",
        "        print(j)\n",
        "        sum+=j\n",
        "        \n",
        "    \n"
      ],
      "execution_count": null,
      "outputs": [
        {
          "output_type": "stream",
          "text": [
            "a\n",
            "a\n",
            "a\n",
            "a\n",
            "a\n",
            "a\n",
            "a\n",
            "a\n",
            "a\n",
            "a\n",
            "a\n",
            "a\n",
            "a\n",
            "a\n",
            "a\n",
            "a\n",
            "a\n",
            "a\n",
            "a\n",
            "a\n"
          ],
          "name": "stdout"
        }
      ]
    },
    {
      "cell_type": "code",
      "metadata": {
        "colab": {
          "base_uri": "https://localhost:8080/"
        },
        "id": "QGz7hwwrBGlv",
        "outputId": "aec7c994-5db4-47c9-97b4-57a3b7b4bc12"
      },
      "source": [
        "list = []\n",
        "def sum(seiseki):\n",
        "    for i in seiseki:\n",
        "        add_sum=0\n",
        "        for j in range(len(i)):\n",
        "            add_sum+=i[j]\n",
        "        i.append(add_sum)\n",
        "    return seiseki\n",
        "\n",
        "    for k in range(5):\n",
        "        for l in range(5):\n",
        "    \n",
        "            list_mid=(seiseki[l][k])\n",
        "    return list\n",
        "            \n",
        "\n",
        "seiseki = [[87,56,89,92,68],[100,65,91,88,72],[92,74,88,90,72],[97,69,85,95,73]]\n",
        "\n",
        "\n",
        "print(sum(seiseki))\n",
        "print(list)\n",
        "\n"
      ],
      "execution_count": null,
      "outputs": [
        {
          "output_type": "stream",
          "text": [
            "[[87, 56, 89, 92, 68, 392], [100, 65, 91, 88, 72, 416], [92, 74, 88, 90, 72, 416], [97, 69, 85, 95, 73, 419]]\n",
            "[]\n"
          ],
          "name": "stdout"
        }
      ]
    },
    {
      "cell_type": "code",
      "metadata": {
        "colab": {
          "base_uri": "https://localhost:8080/"
        },
        "id": "yLqaJNcEQbzC",
        "outputId": "05cba25c-b465-4c63-a7a7-f63cac232762"
      },
      "source": [
        "list = []\n",
        "def sum(seiseki):\n",
        "    for i in seiseki:\n",
        "        add_sum=0\n",
        "        for j in range(len(i)):\n",
        "            add_sum+=i[j]\n",
        "        i.append(add_sum)\n",
        "\n",
        "    for k in range(6):#最初のkがlistの中身のリスト最初の数はkは１で固定で４回回る\n",
        "        for l in range(4):\n",
        "    \n",
        "            list_mid=(seiseki[l][k])/4\n",
        "            list.append(list_mid)\n",
        "    return list,seiseki\n",
        "            \n",
        "\n",
        "seiseki = [[87,56,89,92,68],[100,65,91,88,72],[92,74,88,90,72],[97,69,85,95,73]]\n",
        "\n",
        "\n",
        "list, seiseki = sum(seiseki)\n",
        "print(list)\n",
        "print(seiseki)"
      ],
      "execution_count": null,
      "outputs": [
        {
          "output_type": "stream",
          "text": [
            "[21.75, 25.0, 23.0, 24.25, 14.0, 16.25, 18.5, 17.25, 22.25, 22.75, 22.0, 21.25, 23.0, 22.0, 22.5, 23.75, 17.0, 18.0, 18.0, 18.25, 98.0, 104.0, 104.0, 104.75]\n",
            "[[87, 56, 89, 92, 68, 392], [100, 65, 91, 88, 72, 416], [92, 74, 88, 90, 72, 416], [97, 69, 85, 95, 73, 419]]\n"
          ],
          "name": "stdout"
        }
      ]
    },
    {
      "cell_type": "code",
      "metadata": {
        "colab": {
          "base_uri": "https://localhost:8080/"
        },
        "id": "-i6mi17avBME",
        "outputId": "d97fb983-d264-4550-9192-22b8d8f26416"
      },
      "source": [
        "list = []\n",
        "def sum(seiseki):\n",
        "    for i in seiseki:#リストごとに取り出す？\n",
        "        add_sum=0#追加する値が繰り返しでここにくるたびリセット\n",
        "        for j in range(len(i)):#これ何か聞く\n",
        "            add_sum+=i[j]#i番目のリストの各j番目を回して足していく\n",
        "        i.append(add_sum)\n",
        "\n",
        "    for k in range(6):#最初のkがlistの中身のリスト最初の数はkは１で固定で４回回る\n",
        "        goukei = 0#kが変わるたびにリセット\n",
        "        for l in range(4):\n",
        "            goukei+=(seiseki[l][k])\n",
        "            \n",
        "        list.append(goukei/4)\n",
        "    \n",
        "    seiseki.append(list)\n",
        "    return seiseki\n",
        "\n",
        "            \n",
        "\n",
        "seiseki = [[87,56,89,92,68],[100,65,91,88,72],[92,74,88,90,72],[97,69,85,95,73]]\n",
        "\n",
        "\n",
        "print(sum(seiseki))"
      ],
      "execution_count": null,
      "outputs": [
        {
          "output_type": "stream",
          "text": [
            "[[87, 56, 89, 92, 68, 392], [100, 65, 91, 88, 72, 416], [92, 74, 88, 90, 72, 416], [97, 69, 85, 95, 73, 419], [94.0, 66.0, 88.25, 91.25, 71.25, 410.75]]\n"
          ],
          "name": "stdout"
        }
      ]
    },
    {
      "cell_type": "code",
      "metadata": {
        "colab": {
          "base_uri": "https://localhost:8080/",
          "height": 372
        },
        "id": "l2GghsZj34qS",
        "outputId": "074b62c9-e481-4d8e-e016-9aff0f41278c"
      },
      "source": [
        "list = []\n",
        "def sum(seiseki):\n",
        "    for i in seiseki:#リストごとに取り出す？\n",
        "        add_sum=0#追加する値が繰り返しでここにくるたびリセット\n",
        "        for j in range(len(i)):#これ何か聞く\n",
        "            add_sum+=i[j]#i番目のリストの各j番目を回して足していく\n",
        "        i.append(add_sum)\n",
        "\n",
        "    for k in range(6):#最初のkがlistの中身のリスト最初の数はkは１で固定で４回回る\n",
        "        goukei = 0#kが変わるたびにリセット\n",
        "        for l in range(4):\n",
        "            goukei+=(seiseki[l][k])\n",
        "            \n",
        "        list.append(goukei/4)\n",
        "    \n",
        "    seiseki.append(list)\n",
        "    return seiseki\n",
        "\n",
        "            \n",
        "\n",
        "seiseki = [[87,56,89,92,68],[100,65,91,88,72],[92,74,88,90,72],[97,69,85,95,73]]\n",
        "\n",
        "\n",
        "#print(sum(seiseki))\n",
        "for m in seiseki:\n",
        "    print(sum(seiseki))"
      ],
      "execution_count": null,
      "outputs": [
        {
          "output_type": "stream",
          "text": [
            "IOPub data rate exceeded.\n",
            "The notebook server will temporarily stop sending output\n",
            "to the client in order to avoid crashing it.\n",
            "To change this limit, set the config variable\n",
            "`--NotebookApp.iopub_data_rate_limit`.\n",
            "\n",
            "Current values:\n",
            "NotebookApp.iopub_data_rate_limit=1000000.0 (bytes/sec)\n",
            "NotebookApp.rate_limit_window=3.0 (secs)\n",
            "\n"
          ],
          "name": "stderr"
        },
        {
          "output_type": "error",
          "ename": "KeyboardInterrupt",
          "evalue": "ignored",
          "traceback": [
            "\u001b[0;31m---------------------------------------------------------------------------\u001b[0m",
            "\u001b[0;31mKeyboardInterrupt\u001b[0m                         Traceback (most recent call last)",
            "\u001b[0;32m<ipython-input-12-3d1b91fb9fd2>\u001b[0m in \u001b[0;36m<module>\u001b[0;34m()\u001b[0m\n\u001b[1;32m     24\u001b[0m \u001b[0;31m#print(sum(seiseki))\u001b[0m\u001b[0;34m\u001b[0m\u001b[0;34m\u001b[0m\u001b[0;34m\u001b[0m\u001b[0m\n\u001b[1;32m     25\u001b[0m \u001b[0;32mfor\u001b[0m \u001b[0mm\u001b[0m \u001b[0;32min\u001b[0m \u001b[0mseiseki\u001b[0m\u001b[0;34m:\u001b[0m\u001b[0;34m\u001b[0m\u001b[0;34m\u001b[0m\u001b[0m\n\u001b[0;32m---> 26\u001b[0;31m     \u001b[0mprint\u001b[0m\u001b[0;34m(\u001b[0m\u001b[0msum\u001b[0m\u001b[0;34m(\u001b[0m\u001b[0mseiseki\u001b[0m\u001b[0;34m)\u001b[0m\u001b[0;34m)\u001b[0m\u001b[0;34m\u001b[0m\u001b[0;34m\u001b[0m\u001b[0m\n\u001b[0m",
            "\u001b[0;31mKeyboardInterrupt\u001b[0m: "
          ]
        }
      ]
    },
    {
      "cell_type": "code",
      "metadata": {
        "id": "PXAVDyRG9Gjy"
      },
      "source": [
        ""
      ],
      "execution_count": null,
      "outputs": []
    },
    {
      "cell_type": "code",
      "metadata": {
        "colab": {
          "base_uri": "https://localhost:8080/"
        },
        "id": "MxfS-XCD9HUg",
        "outputId": "074b62c9-e481-4d8e-e016-9aff0f41278c"
      },
      "source": [
        "list = []\n",
        "def sum(seiseki):\n",
        "    for i in seiseki:#リストごとに取り出す？\n",
        "        add_sum=0#追加する値が繰り返しでここにくるたびリセット\n",
        "        for j in range(len(i)):#これ何か聞く\n",
        "            add_sum+=i[j]#i番目のリストの各j番目を回して足していく\n",
        "        i.append(add_sum)\n",
        "\n",
        "    for k in range(6):#最初のkがlistの中身のリスト最初の数はkは１で固定で４回回る\n",
        "        goukei = 0#kが変わるたびにリセット\n",
        "        for l in range(4):\n",
        "            goukei+=(seiseki[l][k])\n",
        "            \n",
        "        list.append(goukei/4)\n",
        "    \n",
        "    seiseki.append(list)\n",
        "    return seiseki\n",
        "\n",
        "            \n",
        "\n",
        "seiseki = [[87,56,89,92,68],[100,65,91,88,72],[92,74,88,90,72],[97,69,85,95,73]]\n",
        "\n",
        "\n",
        "#print(sum(seiseki))\n",
        "t=sum(seiseki)\n",
        "for i in seiseki:\n",
        "    print(i)"
      ],
      "execution_count": null,
      "outputs": [
        {
          "output_type": "stream",
          "text": [
            "IOPub data rate exceeded.\n",
            "The notebook server will temporarily stop sending output\n",
            "to the client in order to avoid crashing it.\n",
            "To change this limit, set the config variable\n",
            "`--NotebookApp.iopub_data_rate_limit`.\n",
            "\n",
            "Current values:\n",
            "NotebookApp.iopub_data_rate_limit=1000000.0 (bytes/sec)\n",
            "NotebookApp.rate_limit_window=3.0 (secs)\n",
            "\n"
          ],
          "name": "stderr"
        }
      ]
    },
    {
      "cell_type": "code",
      "metadata": {
        "id": "c0OB3H3KwsM6"
      },
      "source": [
        ""
      ],
      "execution_count": null,
      "outputs": []
    },
    {
      "cell_type": "code",
      "metadata": {
        "colab": {
          "base_uri": "https://localhost:8080/"
        },
        "id": "mwr_SbI69njp",
        "outputId": "9cefcd71-b7fd-4d61-af56-ade031228288"
      },
      "source": [
        "list = []\n",
        "def sum(seiseki):\n",
        "    for i in seiseki:#リストごとに取り出す？\n",
        "        add_sum=0#追加する値が繰り返しでここにくるたびリセット\n",
        "        for j in range(len(i)):#これ何か聞く\n",
        "            add_sum+=i[j]#i番目のリストの各j番目を回して足していく\n",
        "        i.append(add_sum)\n",
        "\n",
        "    for k in range(6):#最初のkがlistの中身のリスト最初の数はkは１で固定で４回回る\n",
        "        goukei = 0#kが変わるたびにリセット\n",
        "        for l in range(4):\n",
        "            goukei+=(seiseki[l][k])\n",
        "            \n",
        "        list.append(goukei/4)\n",
        "    \n",
        "    seiseki.append(list)\n",
        "    return seiseki\n",
        "\n",
        "            \n",
        "\n",
        "seiseki = [[87,56,89,92,68],[100,65,91,88,72],[92,74,88,90,72],[97,69,85,95,73]]\n",
        "\n",
        "\n",
        "#print(sum(seiseki))\n",
        "for m in sum(seiseki):\n",
        "    print(m)"
      ],
      "execution_count": null,
      "outputs": [
        {
          "output_type": "stream",
          "text": [
            "[87, 56, 89, 92, 68, 392]\n",
            "[100, 65, 91, 88, 72, 416]\n",
            "[92, 74, 88, 90, 72, 416]\n",
            "[97, 69, 85, 95, 73, 419]\n",
            "[94.0, 66.0, 88.25, 91.25, 71.25, 410.75]\n"
          ],
          "name": "stdout"
        }
      ]
    },
    {
      "cell_type": "code",
      "metadata": {
        "id": "DKpCT0BWADCW"
      },
      "source": [
        ""
      ],
      "execution_count": null,
      "outputs": []
    },
    {
      "cell_type": "code",
      "metadata": {
        "colab": {
          "base_uri": "https://localhost:8080/"
        },
        "id": "lBctQuBdADjC",
        "outputId": "4658d8d5-a18a-4948-9b69-a79529491a5a"
      },
      "source": [
        "list = []\n",
        "def sum(seiseki2):\n",
        "    for i in seiseki2:#リストごとに取り出す？\n",
        "        add_sum=0#追加する値が繰り返しでここにくるたびリセット\n",
        "        for j in range(len(i)):#これ何か聞く\n",
        "            add_sum+=i[j]#i番目のリストの各j番目を回して足していく\n",
        "        i.append(add_sum)\n",
        "\n",
        "    for k in range(6):#最初のkがlistの中身のリスト最初の数はkは１で固定で４回回る\n",
        "        goukei = 0#kが変わるたびにリセット\n",
        "        for l in range(4):\n",
        "            goukei+=(seiseki2[l][k])\n",
        "            \n",
        "        list.append(goukei/4)\n",
        "    \n",
        "    seiseki2.append(list)\n",
        "    return seiseki2\n",
        "\n",
        "            \n",
        "\n",
        "seiseki = [[87,56,89,92,68],[100,65,91,88,72],[92,74,88,90,72],[97,69,85,95,73]]\n",
        "seiseki = [[87.00,56.00,89.00,92.00,68.00],[100.00,65.00,91.00,88.00,72.00],[92.00,74.00,88.00,90.00,72.00],[97.00,69.00,85.00,95.00,73.00]]\n",
        "\n",
        "#print(sum(seiseki))\n",
        "for m in sum(seiseki):\n",
        "    print(m)"
      ],
      "execution_count": null,
      "outputs": [
        {
          "output_type": "stream",
          "text": [
            "[87.0, 56.0, 89.0, 92.0, 68.0, 392.0]\n",
            "[100.0, 65.0, 91.0, 88.0, 72.0, 416.0]\n",
            "[92.0, 74.0, 88.0, 90.0, 72.0, 416.0]\n",
            "[97.0, 69.0, 85.0, 95.0, 73.0, 419.0]\n",
            "[94.0, 66.0, 88.25, 91.25, 71.25, 410.75]\n"
          ],
          "name": "stdout"
        }
      ]
    },
    {
      "cell_type": "code",
      "metadata": {
        "id": "wTcbQLC3wDBb"
      },
      "source": [
        ""
      ],
      "execution_count": null,
      "outputs": []
    },
    {
      "cell_type": "code",
      "metadata": {
        "colab": {
          "base_uri": "https://localhost:8080/"
        },
        "id": "FTY2qPfQwD2w",
        "outputId": "ee1332ed-8031-430f-b10e-5e6c88e0ef54"
      },
      "source": [
        "list = []\n",
        "def sum(seiseki2):\n",
        "    for i in seiseki2:#リストごとに取り出す？\n",
        "        add_sum=0#追加する値が繰り返しでここにくるたびリセット\n",
        "        for j in range(len(i)):#これ何か聞く\n",
        "            add_sum+=i[j]#i番目のリストの各j番目を回して足していく\n",
        "        i.append(add_sum)\n",
        "\n",
        "    for k in range(6):#最初のkがlistの中身のリスト最初の数はkは１で固定で４回回る\n",
        "        goukei = 0#kが変わるたびにリセット\n",
        "        for l in range(4):\n",
        "            goukei+=(seiseki2[l][k])\n",
        "            \n",
        "        list.append(goukei/4)\n",
        "    \n",
        "    seiseki2.append(list)\n",
        "    return seiseki2\n",
        "\n",
        "            \n",
        "\n",
        "seiseki = [[87,56,89,92,68],[100,65,91,88,72],[92,74,88,90,72],[97,69,85,95,73]]\n",
        "seiseki = [[87.00,56.00,89.00,92.00,68.00],[100.00,65.00,91.00,88.00,72.00],[92.00,74.00,88.00,90.00,72.00],[97.00,69.00,85.00,95.00,73.00]]\n",
        "\n",
        "#print(sum(seiseki))\n",
        "for m in sum(seiseki):\n",
        "    print(m)"
      ],
      "execution_count": null,
      "outputs": [
        {
          "output_type": "stream",
          "text": [
            "[87.0, 56.0, 89.0, 92.0, 68.0, 392.0]\n",
            "[100.0, 65.0, 91.0, 88.0, 72.0, 416.0]\n",
            "[92.0, 74.0, 88.0, 90.0, 72.0, 416.0]\n",
            "[97.0, 69.0, 85.0, 95.0, 73.0, 419.0]\n",
            "[94.0, 66.0, 88.25, 91.25, 71.25, 410.75]\n"
          ],
          "name": "stdout"
        }
      ]
    },
    {
      "cell_type": "code",
      "metadata": {
        "id": "WbRXpcLJ1dMd"
      },
      "source": [
        ""
      ],
      "execution_count": null,
      "outputs": []
    },
    {
      "cell_type": "code",
      "metadata": {
        "colab": {
          "base_uri": "https://localhost:8080/",
          "height": 236
        },
        "id": "aRe4cA8b1dwA",
        "outputId": "3d7bf0cb-4c36-4081-8c5f-192447a1343f"
      },
      "source": [
        "list = []\n",
        "def sum(seiseki2):\n",
        "    for i in seiseki2:#リストごとに取り出す？\n",
        "        add_sum=0#追加する値が繰り返しでここにくるたびリセット\n",
        "        for j in range(len(i)):#これ何か聞く\n",
        "            add_sum+=i[j]#i番目のリストの各j番目を回して足していく\n",
        "        i.append(add_sum)\n",
        "\n",
        "    for k in range(6):#最初のkがlistの中身のリスト最初の数はkは１で固定で４回回る\n",
        "        goukei = 0#kが変わるたびにリセット\n",
        "        for l in range(4):\n",
        "            goukei+=(seiseki2[l][k])\n",
        "            \n",
        "        list.append(goukei/4)\n",
        "    \n",
        "    seiseki2.append(list)\n",
        "    return seiseki2\n",
        "\n",
        "            \n",
        "\n",
        "seiseki = [[87,56,89,92,68],[100,65,91,88,72],[92,74,88,90,72],[97,69,85,95,73]]\n",
        "seiseki2 = '{:.2f}'.format(seiseki)\n",
        "#print(sum(seiseki))\n",
        "for m in sum(seiseki):\n",
        "    print(m)"
      ],
      "execution_count": null,
      "outputs": [
        {
          "output_type": "error",
          "ename": "TypeError",
          "evalue": "ignored",
          "traceback": [
            "\u001b[0;31m---------------------------------------------------------------------------\u001b[0m",
            "\u001b[0;31mTypeError\u001b[0m                                 Traceback (most recent call last)",
            "\u001b[0;32m<ipython-input-3-0fd8547bcde6>\u001b[0m in \u001b[0;36m<module>\u001b[0;34m()\u001b[0m\n\u001b[1;32m     20\u001b[0m \u001b[0;34m\u001b[0m\u001b[0m\n\u001b[1;32m     21\u001b[0m \u001b[0mseiseki\u001b[0m \u001b[0;34m=\u001b[0m \u001b[0;34m[\u001b[0m\u001b[0;34m[\u001b[0m\u001b[0;36m87\u001b[0m\u001b[0;34m,\u001b[0m\u001b[0;36m56\u001b[0m\u001b[0;34m,\u001b[0m\u001b[0;36m89\u001b[0m\u001b[0;34m,\u001b[0m\u001b[0;36m92\u001b[0m\u001b[0;34m,\u001b[0m\u001b[0;36m68\u001b[0m\u001b[0;34m]\u001b[0m\u001b[0;34m,\u001b[0m\u001b[0;34m[\u001b[0m\u001b[0;36m100\u001b[0m\u001b[0;34m,\u001b[0m\u001b[0;36m65\u001b[0m\u001b[0;34m,\u001b[0m\u001b[0;36m91\u001b[0m\u001b[0;34m,\u001b[0m\u001b[0;36m88\u001b[0m\u001b[0;34m,\u001b[0m\u001b[0;36m72\u001b[0m\u001b[0;34m]\u001b[0m\u001b[0;34m,\u001b[0m\u001b[0;34m[\u001b[0m\u001b[0;36m92\u001b[0m\u001b[0;34m,\u001b[0m\u001b[0;36m74\u001b[0m\u001b[0;34m,\u001b[0m\u001b[0;36m88\u001b[0m\u001b[0;34m,\u001b[0m\u001b[0;36m90\u001b[0m\u001b[0;34m,\u001b[0m\u001b[0;36m72\u001b[0m\u001b[0;34m]\u001b[0m\u001b[0;34m,\u001b[0m\u001b[0;34m[\u001b[0m\u001b[0;36m97\u001b[0m\u001b[0;34m,\u001b[0m\u001b[0;36m69\u001b[0m\u001b[0;34m,\u001b[0m\u001b[0;36m85\u001b[0m\u001b[0;34m,\u001b[0m\u001b[0;36m95\u001b[0m\u001b[0;34m,\u001b[0m\u001b[0;36m73\u001b[0m\u001b[0;34m]\u001b[0m\u001b[0;34m]\u001b[0m\u001b[0;34m\u001b[0m\u001b[0;34m\u001b[0m\u001b[0m\n\u001b[0;32m---> 22\u001b[0;31m \u001b[0mseiseki2\u001b[0m \u001b[0;34m=\u001b[0m \u001b[0;34m'{:.2f}'\u001b[0m\u001b[0;34m.\u001b[0m\u001b[0mformat\u001b[0m\u001b[0;34m(\u001b[0m\u001b[0mseiseki\u001b[0m\u001b[0;34m)\u001b[0m\u001b[0;34m\u001b[0m\u001b[0;34m\u001b[0m\u001b[0m\n\u001b[0m\u001b[1;32m     23\u001b[0m \u001b[0;31m#print(sum(seiseki))\u001b[0m\u001b[0;34m\u001b[0m\u001b[0;34m\u001b[0m\u001b[0;34m\u001b[0m\u001b[0m\n\u001b[1;32m     24\u001b[0m \u001b[0;32mfor\u001b[0m \u001b[0mm\u001b[0m \u001b[0;32min\u001b[0m \u001b[0msum\u001b[0m\u001b[0;34m(\u001b[0m\u001b[0mseiseki2\u001b[0m\u001b[0;34m)\u001b[0m\u001b[0;34m:\u001b[0m\u001b[0;34m\u001b[0m\u001b[0;34m\u001b[0m\u001b[0m\n",
            "\u001b[0;31mTypeError\u001b[0m: unsupported format string passed to list.__format__"
          ]
        }
      ]
    },
    {
      "cell_type": "code",
      "metadata": {
        "id": "xBfuyDMb7U0j"
      },
      "source": [
        ""
      ],
      "execution_count": null,
      "outputs": []
    },
    {
      "cell_type": "code",
      "metadata": {
        "colab": {
          "base_uri": "https://localhost:8080/",
          "height": 219
        },
        "id": "FX2HutYl7VUP",
        "outputId": "f690c73e-6ccb-4250-b43d-6c719cc25107"
      },
      "source": [
        "list = []\n",
        "def sum(seiseki2):\n",
        "    for i in seiseki2:#リストごとに取り出す？\n",
        "        add_sum=0#追加する値が繰り返しでここにくるたびリセット\n",
        "        for j in range(len(i)):#これ何か聞く\n",
        "            add_sum+=i[j]#i番目のリストの各j番目を回して足していく\n",
        "        i.append(add_sum)\n",
        "\n",
        "    for k in range(6):#最初のkがlistの中身のリスト最初の数はkは１で固定で４回回る\n",
        "        goukei = 0#kが変わるたびにリセット\n",
        "        for l in range(4):\n",
        "            goukei+=(seiseki2[l][k])\n",
        "            \n",
        "        list.append(goukei/4)\n",
        "    \n",
        "    seiseki2.append(list)\n",
        "    return seiseki2\n",
        "\n",
        "            \n",
        "\n",
        "seiseki = [[87,56,89,92,68],[100,65,91,88,72],[92,74,88,90,72],[97,69,85,95,73]]\n",
        "\n",
        "#print(sum(seiseki))\n",
        "for m in sum(seiseki):\n",
        "    print('-------------------------------------')\n",
        "    print('|%6.2f|%6.2f|%6.2f|%6.2f|%6.2f|%6.2f|'%(seiseki[m][0],seiseki[m][1],seiseki[m][2],seiseki[m][3],seiseki[m][4],seiseki[m][5]))"
      ],
      "execution_count": null,
      "outputs": [
        {
          "output_type": "stream",
          "text": [
            "-------------------------------------\n"
          ],
          "name": "stdout"
        },
        {
          "output_type": "error",
          "ename": "TypeError",
          "evalue": "ignored",
          "traceback": [
            "\u001b[0;31m---------------------------------------------------------------------------\u001b[0m",
            "\u001b[0;31mTypeError\u001b[0m                                 Traceback (most recent call last)",
            "\u001b[0;32m<ipython-input-6-ab9ce12d71bb>\u001b[0m in \u001b[0;36m<module>\u001b[0;34m()\u001b[0m\n\u001b[1;32m     24\u001b[0m \u001b[0;32mfor\u001b[0m \u001b[0mm\u001b[0m \u001b[0;32min\u001b[0m \u001b[0msum\u001b[0m\u001b[0;34m(\u001b[0m\u001b[0mseiseki\u001b[0m\u001b[0;34m)\u001b[0m\u001b[0;34m:\u001b[0m\u001b[0;34m\u001b[0m\u001b[0;34m\u001b[0m\u001b[0m\n\u001b[1;32m     25\u001b[0m     \u001b[0mprint\u001b[0m\u001b[0;34m(\u001b[0m\u001b[0;34m'-------------------------------------'\u001b[0m\u001b[0;34m)\u001b[0m\u001b[0;34m\u001b[0m\u001b[0;34m\u001b[0m\u001b[0m\n\u001b[0;32m---> 26\u001b[0;31m     \u001b[0mprint\u001b[0m\u001b[0;34m(\u001b[0m\u001b[0;34m'|%6.2f|%6.2f|%6.2f|%6.2f|%6.2f|%6.2f|'\u001b[0m\u001b[0;34m%\u001b[0m\u001b[0;34m(\u001b[0m\u001b[0mseiseki\u001b[0m\u001b[0;34m[\u001b[0m\u001b[0mm\u001b[0m\u001b[0;34m]\u001b[0m\u001b[0;34m[\u001b[0m\u001b[0;36m0\u001b[0m\u001b[0;34m]\u001b[0m\u001b[0;34m,\u001b[0m\u001b[0mseiseki\u001b[0m\u001b[0;34m[\u001b[0m\u001b[0mm\u001b[0m\u001b[0;34m]\u001b[0m\u001b[0;34m[\u001b[0m\u001b[0;36m1\u001b[0m\u001b[0;34m]\u001b[0m\u001b[0;34m,\u001b[0m\u001b[0mseiseki\u001b[0m\u001b[0;34m[\u001b[0m\u001b[0mm\u001b[0m\u001b[0;34m]\u001b[0m\u001b[0;34m[\u001b[0m\u001b[0;36m2\u001b[0m\u001b[0;34m]\u001b[0m\u001b[0;34m,\u001b[0m\u001b[0mseiseki\u001b[0m\u001b[0;34m[\u001b[0m\u001b[0mm\u001b[0m\u001b[0;34m]\u001b[0m\u001b[0;34m[\u001b[0m\u001b[0;36m3\u001b[0m\u001b[0;34m]\u001b[0m\u001b[0;34m,\u001b[0m\u001b[0mseiseki\u001b[0m\u001b[0;34m[\u001b[0m\u001b[0mm\u001b[0m\u001b[0;34m]\u001b[0m\u001b[0;34m[\u001b[0m\u001b[0;36m4\u001b[0m\u001b[0;34m]\u001b[0m\u001b[0;34m,\u001b[0m\u001b[0mseiseki\u001b[0m\u001b[0;34m[\u001b[0m\u001b[0mm\u001b[0m\u001b[0;34m]\u001b[0m\u001b[0;34m[\u001b[0m\u001b[0;36m5\u001b[0m\u001b[0;34m]\u001b[0m\u001b[0;34m)\u001b[0m\u001b[0;34m)\u001b[0m\u001b[0;34m\u001b[0m\u001b[0;34m\u001b[0m\u001b[0m\n\u001b[0m",
            "\u001b[0;31mTypeError\u001b[0m: list indices must be integers or slices, not list"
          ]
        }
      ]
    },
    {
      "cell_type": "code",
      "metadata": {
        "id": "lTD9UPCmEkkz"
      },
      "source": [
        ""
      ],
      "execution_count": null,
      "outputs": []
    },
    {
      "cell_type": "code",
      "metadata": {
        "colab": {
          "base_uri": "https://localhost:8080/"
        },
        "id": "Kv3EjZZ1ElKp",
        "outputId": "19406270-068f-47a6-e292-9b4b2a3b72c2"
      },
      "source": [
        "list = []\n",
        "def sum(seiseki):\n",
        "    for i in seiseki:#リストごとに取り出す？\n",
        "        add_sum=0#追加する値が繰り返しでここにくるたびリセット\n",
        "        for j in range(len(i)):#これ何か聞く\n",
        "            add_sum+=i[j]#i番目のリストの各j番目を回して足していく\n",
        "        i.append(add_sum)\n",
        "\n",
        "    for k in range(6):#最初のkがlistの中身のリスト最初の数はkは１で固定で４回回る\n",
        "        goukei = 0#kが変わるたびにリセット\n",
        "        for l in range(4):\n",
        "            goukei+=(seiseki[l][k])\n",
        "            \n",
        "        list.append(goukei/4)\n",
        "    \n",
        "    seiseki.append(list)\n",
        "    return seiseki\n",
        "\n",
        "            \n",
        "\n",
        "seiseki = [[87,56,89,92,68],[100,65,91,88,72],[92,74,88,90,72],[97,69,85,95,73]]\n",
        "sum(seiseki)\n",
        "#print(sum(seiseki))\n",
        "for m in range(len(seiseki)):\n",
        "    print('---------------------------------------------------------')\n",
        "    print('|%6.2f|%6.2f|%6.2f|%6.2f|%6.2f|%6.2f|'%(seiseki[m][0],seiseki[m][1],seiseki[m][2],seiseki[m][3],seiseki[m][4],seiseki[m][5]))"
      ],
      "execution_count": null,
      "outputs": [
        {
          "output_type": "stream",
          "text": [
            "---------------------------------------------------------\n",
            "| 87.00| 56.00| 89.00| 92.00| 68.00|392.00|\n",
            "---------------------------------------------------------\n",
            "|100.00| 65.00| 91.00| 88.00| 72.00|416.00|\n",
            "---------------------------------------------------------\n",
            "| 92.00| 74.00| 88.00| 90.00| 72.00|416.00|\n",
            "---------------------------------------------------------\n",
            "| 97.00| 69.00| 85.00| 95.00| 73.00|419.00|\n",
            "---------------------------------------------------------\n",
            "| 94.00| 66.00| 88.25| 91.25| 71.25|410.75|\n"
          ],
          "name": "stdout"
        }
      ]
    },
    {
      "cell_type": "code",
      "metadata": {
        "id": "wXxNsrYYFGRg"
      },
      "source": [
        ""
      ],
      "execution_count": null,
      "outputs": []
    },
    {
      "cell_type": "code",
      "metadata": {
        "colab": {
          "base_uri": "https://localhost:8080/",
          "height": 219
        },
        "id": "n1RuDljRFHhg",
        "outputId": "fa13798b-b5ff-48cd-d19d-4aff9538a3cf"
      },
      "source": [
        "list = []\n",
        "def sum(seiseki):\n",
        "    for i in seiseki:#リストごとに取り出す？\n",
        "        add_sum=0#追加する値が繰り返しでここにくるたびリセット\n",
        "        for j in range(len(i)):#これ何か聞く\n",
        "            add_sum+=i[j]#i番目のリストの各j番目を回して足していく\n",
        "        i.append(add_sum)\n",
        "\n",
        "    for k in range(6):#最初のkがlistの中身のリスト最初の数はkは１で固定で４回回る\n",
        "        goukei = 0#kが変わるたびにリセット\n",
        "        for l in range(4):\n",
        "            goukei+=(seiseki[l][k])\n",
        "            \n",
        "        list.append(goukei/4)\n",
        "    \n",
        "    seiseki2.append(list)\n",
        "    return seiseki\n",
        "\n",
        "            \n",
        "\n",
        "seiseki = [[87,56,89,92,68],[100,65,91,88,72],[92,74,88,90,72],[97,69,85,95,73]]\n",
        "\n",
        "#print(sum(seiseki))\n",
        "for m in range(sum(seiseki)):\n",
        "    print('|%6.2f|%6.2f|%6.2f|%6.2f|%6.2f|%6.2f|'%(seiseki[m][0],seiseki[m][1],seiseki[m][2],seiseki[m][3],seiseki[m][4],seiseki[m][5]))"
      ],
      "execution_count": null,
      "outputs": [
        {
          "output_type": "error",
          "ename": "TypeError",
          "evalue": "ignored",
          "traceback": [
            "\u001b[0;31m---------------------------------------------------------------------------\u001b[0m",
            "\u001b[0;31mTypeError\u001b[0m                                 Traceback (most recent call last)",
            "\u001b[0;32m<ipython-input-12-d93220bc90d4>\u001b[0m in \u001b[0;36m<module>\u001b[0;34m()\u001b[0m\n\u001b[1;32m     22\u001b[0m \u001b[0;34m\u001b[0m\u001b[0m\n\u001b[1;32m     23\u001b[0m \u001b[0;31m#print(sum(seiseki))\u001b[0m\u001b[0;34m\u001b[0m\u001b[0;34m\u001b[0m\u001b[0;34m\u001b[0m\u001b[0m\n\u001b[0;32m---> 24\u001b[0;31m \u001b[0;32mfor\u001b[0m \u001b[0mm\u001b[0m \u001b[0;32min\u001b[0m \u001b[0mrange\u001b[0m\u001b[0;34m(\u001b[0m\u001b[0msum\u001b[0m\u001b[0;34m(\u001b[0m\u001b[0mseiseki\u001b[0m\u001b[0;34m)\u001b[0m\u001b[0;34m)\u001b[0m\u001b[0;34m:\u001b[0m\u001b[0;34m\u001b[0m\u001b[0;34m\u001b[0m\u001b[0m\n\u001b[0m\u001b[1;32m     25\u001b[0m     \u001b[0mprint\u001b[0m\u001b[0;34m(\u001b[0m\u001b[0;34m'|%6.2f|%6.2f|%6.2f|%6.2f|%6.2f|%6.2f|'\u001b[0m\u001b[0;34m%\u001b[0m\u001b[0;34m(\u001b[0m\u001b[0mseiseki\u001b[0m\u001b[0;34m[\u001b[0m\u001b[0mm\u001b[0m\u001b[0;34m]\u001b[0m\u001b[0;34m[\u001b[0m\u001b[0;36m0\u001b[0m\u001b[0;34m]\u001b[0m\u001b[0;34m,\u001b[0m\u001b[0mseiseki\u001b[0m\u001b[0;34m[\u001b[0m\u001b[0mm\u001b[0m\u001b[0;34m]\u001b[0m\u001b[0;34m[\u001b[0m\u001b[0;36m1\u001b[0m\u001b[0;34m]\u001b[0m\u001b[0;34m,\u001b[0m\u001b[0mseiseki\u001b[0m\u001b[0;34m[\u001b[0m\u001b[0mm\u001b[0m\u001b[0;34m]\u001b[0m\u001b[0;34m[\u001b[0m\u001b[0;36m2\u001b[0m\u001b[0;34m]\u001b[0m\u001b[0;34m,\u001b[0m\u001b[0mseiseki\u001b[0m\u001b[0;34m[\u001b[0m\u001b[0mm\u001b[0m\u001b[0;34m]\u001b[0m\u001b[0;34m[\u001b[0m\u001b[0;36m3\u001b[0m\u001b[0;34m]\u001b[0m\u001b[0;34m,\u001b[0m\u001b[0mseiseki\u001b[0m\u001b[0;34m[\u001b[0m\u001b[0mm\u001b[0m\u001b[0;34m]\u001b[0m\u001b[0;34m[\u001b[0m\u001b[0;36m4\u001b[0m\u001b[0;34m]\u001b[0m\u001b[0;34m,\u001b[0m\u001b[0mseiseki\u001b[0m\u001b[0;34m[\u001b[0m\u001b[0mm\u001b[0m\u001b[0;34m]\u001b[0m\u001b[0;34m[\u001b[0m\u001b[0;36m5\u001b[0m\u001b[0;34m]\u001b[0m\u001b[0;34m)\u001b[0m\u001b[0;34m)\u001b[0m\u001b[0;34m\u001b[0m\u001b[0;34m\u001b[0m\u001b[0m\n",
            "\u001b[0;31mTypeError\u001b[0m: 'list' object cannot be interpreted as an integer"
          ]
        }
      ]
    },
    {
      "cell_type": "code",
      "metadata": {
        "id": "mLUsjxhTIPTD"
      },
      "source": [
        ""
      ],
      "execution_count": null,
      "outputs": []
    },
    {
      "cell_type": "code",
      "metadata": {
        "colab": {
          "base_uri": "https://localhost:8080/"
        },
        "id": "IgV7v4InIP44",
        "outputId": "f3395565-5d91-40d7-b355-235f58fbf832"
      },
      "source": [
        "list = []\n",
        "def sum(seiseki):\n",
        "    for i in seiseki:#リストごとに取り出す？\n",
        "        add_sum=0#追加する値が繰り返しでここにくるたびリセット\n",
        "        for j in range(len(i)):#これ何か聞く\n",
        "            add_sum+=i[j]#i番目のリストの各j番目を回して足していく\n",
        "        i.append(add_sum)\n",
        "\n",
        "    for k in range(6):#最初のkがlistの中身のリスト最初の数はkは１で固定で４回回る\n",
        "        goukei = 0#kが変わるたびにリセット\n",
        "        for l in range(4):\n",
        "            goukei+=(seiseki[l][k])\n",
        "            \n",
        "        list.append(goukei/4)\n",
        "    \n",
        "    seiseki.append(list)\n",
        "    return seiseki\n",
        "\n",
        "            \n",
        "\n",
        "seiseki = [[87,56,89,92,68],[100,65,91,88,72],[92,74,88,90,72],[97,69,85,95,73]]\n",
        "sum(seiseki)\n",
        "#print(sum(seiseki))\n",
        "for m in range(len(seiseki)):\n",
        "    print('---------------------------------------------------------')\n",
        "    print('|%6.2f|%6.2f|%6.2f|%6.2f|%6.2f|%6.2f|'%(seiseki[m][0],seiseki[m][1],seiseki[m][2],seiseki[m][3],seiseki[m][4],seiseki[m][5]))\n",
        "print('---------------------------------------------------------')"
      ],
      "execution_count": null,
      "outputs": [
        {
          "output_type": "stream",
          "text": [
            "---------------------------------------------------------\n",
            "| 87.00| 56.00| 89.00| 92.00| 68.00|392.00|\n",
            "---------------------------------------------------------\n",
            "|100.00| 65.00| 91.00| 88.00| 72.00|416.00|\n",
            "---------------------------------------------------------\n",
            "| 92.00| 74.00| 88.00| 90.00| 72.00|416.00|\n",
            "---------------------------------------------------------\n",
            "| 97.00| 69.00| 85.00| 95.00| 73.00|419.00|\n",
            "---------------------------------------------------------\n",
            "| 94.00| 66.00| 88.25| 91.25| 71.25|410.75|\n",
            "---------------------------------------------------------\n"
          ],
          "name": "stdout"
        }
      ]
    },
    {
      "cell_type": "code",
      "metadata": {
        "id": "XKbw5zHNIk6A"
      },
      "source": [
        ""
      ],
      "execution_count": null,
      "outputs": []
    },
    {
      "cell_type": "code",
      "metadata": {
        "colab": {
          "base_uri": "https://localhost:8080/"
        },
        "id": "M6ANbZBEImBw",
        "outputId": "f3395565-5d91-40d7-b355-235f58fbf832"
      },
      "source": [
        "list = []\n",
        "def sum(seiseki):\n",
        "    for i in seiseki:#リストごとに取り出す？\n",
        "        add_sum=0#追加する値が繰り返しでここにくるたびリセット\n",
        "        for j in range(len(i)):#これ何か聞く\n",
        "            add_sum+=i[j]#i番目のリストの各j番目を回して足していく\n",
        "        i.append(add_sum)\n",
        "\n",
        "    for k in range(6):#最初のkがlistの中身のリスト最初の数はkは１で固定で４回回る\n",
        "        goukei = 0#kが変わるたびにリセット\n",
        "        for l in range(4):\n",
        "            goukei+=(seiseki[l][k])\n",
        "            \n",
        "        list.append(goukei/4)\n",
        "    \n",
        "    seiseki.append(list)\n",
        "    return seiseki\n",
        "\n",
        "            \n",
        "\n",
        "seiseki = [[87,56,89,92,68],[100,65,91,88,72],[92,74,88,90,72],[97,69,85,95,73]]\n",
        "sum(seiseki)\n",
        "#print(sum(seiseki))\n",
        "for m in range(len(seiseki)):\n",
        "    print('---------------------------------------------------------')\n",
        "    print('|%6.2f|%6.2f|%6.2f|%6.2f|%6.2f|%6.2f|'%(seiseki[m][0],seiseki[m][1],seiseki[m][2],seiseki[m][3],seiseki[m][4],seiseki[m][5]))\n",
        "print('---------------------------------------------------------')"
      ],
      "execution_count": null,
      "outputs": [
        {
          "output_type": "stream",
          "text": [
            "---------------------------------------------------------\n",
            "| 87.00| 56.00| 89.00| 92.00| 68.00|392.00|\n",
            "---------------------------------------------------------\n",
            "|100.00| 65.00| 91.00| 88.00| 72.00|416.00|\n",
            "---------------------------------------------------------\n",
            "| 92.00| 74.00| 88.00| 90.00| 72.00|416.00|\n",
            "---------------------------------------------------------\n",
            "| 97.00| 69.00| 85.00| 95.00| 73.00|419.00|\n",
            "---------------------------------------------------------\n",
            "| 94.00| 66.00| 88.25| 91.25| 71.25|410.75|\n",
            "---------------------------------------------------------\n"
          ],
          "name": "stdout"
        }
      ]
    },
    {
      "cell_type": "code",
      "metadata": {
        "colab": {
          "base_uri": "https://localhost:8080/",
          "height": 236
        },
        "id": "xPynvMxcIneW",
        "outputId": "000b745f-339e-4d3e-e218-04692bcaa0fe"
      },
      "source": [
        "class Meibo:\n",
        "    def __init__(number,name,mail):\n",
        "        self.numner = number\n",
        "        self.name = name\n",
        "        self.mail = mail\n",
        "\n",
        "\n",
        "p1 = Meibo(1001,'安納太郎','taro@hogedai.ac.jp')\n",
        "p2 = Meibo(1002,'石田次郎','jiro@hogedai.ac.jp')\n",
        "p3 = Meibo(1008,'植山三郎','sabu@hogedai.ac.jp')\n",
        "p4 = Meibo(1012,'江上史朗','ega@hogedai.ac.jp')\n",
        "p5 = Meibo(1019,'大城吾郎','goro@hogedai.ac.jp')\n",
        "\n",
        "list = [p1,p2,p3,p4,p5]\n",
        "\n",
        "for i in range(5):\n",
        "    print(list)"
      ],
      "execution_count": null,
      "outputs": [
        {
          "output_type": "error",
          "ename": "TypeError",
          "evalue": "ignored",
          "traceback": [
            "\u001b[0;31m---------------------------------------------------------------------------\u001b[0m",
            "\u001b[0;31mTypeError\u001b[0m                                 Traceback (most recent call last)",
            "\u001b[0;32m<ipython-input-21-1a203accfe51>\u001b[0m in \u001b[0;36m<module>\u001b[0;34m()\u001b[0m\n\u001b[1;32m      6\u001b[0m \u001b[0;34m\u001b[0m\u001b[0m\n\u001b[1;32m      7\u001b[0m \u001b[0;34m\u001b[0m\u001b[0m\n\u001b[0;32m----> 8\u001b[0;31m \u001b[0mp1\u001b[0m \u001b[0;34m=\u001b[0m \u001b[0mMeibo\u001b[0m\u001b[0;34m(\u001b[0m\u001b[0;36m1001\u001b[0m\u001b[0;34m,\u001b[0m\u001b[0;34m'安納太郎'\u001b[0m\u001b[0;34m,\u001b[0m\u001b[0;34m'taro@hogedai.ac.jp'\u001b[0m\u001b[0;34m)\u001b[0m\u001b[0;34m\u001b[0m\u001b[0;34m\u001b[0m\u001b[0m\n\u001b[0m\u001b[1;32m      9\u001b[0m \u001b[0mp2\u001b[0m \u001b[0;34m=\u001b[0m \u001b[0mMeibo\u001b[0m\u001b[0;34m(\u001b[0m\u001b[0;36m1002\u001b[0m\u001b[0;34m,\u001b[0m\u001b[0;34m'石田次郎'\u001b[0m\u001b[0;34m,\u001b[0m\u001b[0;34m'jiro@hogedai.ac.jp'\u001b[0m\u001b[0;34m)\u001b[0m\u001b[0;34m\u001b[0m\u001b[0;34m\u001b[0m\u001b[0m\n\u001b[1;32m     10\u001b[0m \u001b[0mp3\u001b[0m \u001b[0;34m=\u001b[0m \u001b[0mMeibo\u001b[0m\u001b[0;34m(\u001b[0m\u001b[0;36m1008\u001b[0m\u001b[0;34m,\u001b[0m\u001b[0;34m'植山三郎'\u001b[0m\u001b[0;34m,\u001b[0m\u001b[0;34m'sabu@hogedai.ac.jp'\u001b[0m\u001b[0;34m)\u001b[0m\u001b[0;34m\u001b[0m\u001b[0;34m\u001b[0m\u001b[0m\n",
            "\u001b[0;31mTypeError\u001b[0m: __init__() takes 3 positional arguments but 4 were given"
          ]
        }
      ]
    },
    {
      "cell_type": "code",
      "metadata": {
        "id": "X3XGOqXCfChj"
      },
      "source": [
        ""
      ],
      "execution_count": null,
      "outputs": []
    },
    {
      "cell_type": "code",
      "metadata": {
        "colab": {
          "base_uri": "https://localhost:8080/"
        },
        "id": "jmYMyIFUfDLS",
        "outputId": "e8c025eb-2740-464b-a546-5db3a6e4ab1b"
      },
      "source": [
        "class Meibo:\n",
        "    def __init__(self,number,name,mail):\n",
        "        self.number = number\n",
        "        self.name = name\n",
        "        self.mail = mail\n",
        "\n",
        "\n",
        "p1 = Meibo(1001,'安納太郎','taro@hogedai.ac.jp')\n",
        "p2 = Meibo(1002,'石田次郎','jiro@hogedai.ac.jp')\n",
        "p3 = Meibo(1008,'植山三郎','sabu@hogedai.ac.jp')\n",
        "p4 = Meibo(1012,'江上史朗','ega@hogedai.ac.jp')\n",
        "p5 = Meibo(1019,'大城吾郎','goro@hogedai.ac.jp')\n",
        "\n",
        "list = [p1,p2,p3,p4,p5]\n",
        "\n",
        "for i in list:\n",
        "    print(i.number,i.name,i.mail)"
      ],
      "execution_count": null,
      "outputs": [
        {
          "output_type": "stream",
          "text": [
            "1001 安納太郎 taro@hogedai.ac.jp\n",
            "1002 石田次郎 jiro@hogedai.ac.jp\n",
            "1008 植山三郎 sabu@hogedai.ac.jp\n",
            "1012 江上史朗 ega@hogedai.ac.jp\n",
            "1019 大城吾郎 goro@hogedai.ac.jp\n"
          ],
          "name": "stdout"
        }
      ]
    },
    {
      "cell_type": "markdown",
      "metadata": {
        "id": "I3hIEWpymC4q"
      },
      "source": [
        "考察\n"
      ]
    },
    {
      "cell_type": "code",
      "metadata": {
        "id": "lus8QgssmD3x"
      },
      "source": [
        ""
      ],
      "execution_count": null,
      "outputs": []
    }
  ]
}